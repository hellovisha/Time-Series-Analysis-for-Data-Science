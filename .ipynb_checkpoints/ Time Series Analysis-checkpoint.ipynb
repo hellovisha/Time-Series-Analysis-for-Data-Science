{
 "cells": [
  {
   "cell_type": "markdown",
   "id": "251f4c17-547e-487c-a18e-703862ec9fbf",
   "metadata": {},
   "source": [
    "# What is Time series data ?\n",
    "\n",
    "* Time series data is a sequence of data points collected or recorded at specific time intervals. This type of data captures changes over time and is commonly used in various fields such as finance, economics, weather forecasting, and stock market analysis."
   ]
  },
  {
   "cell_type": "markdown",
   "id": "c9b78c64-a001-4644-a497-a04485f5274d",
   "metadata": {},
   "source": [
    "# Examples of Time Series Data\n",
    "\n"
   ]
  },
  {
   "cell_type": "markdown",
   "id": "6c181cfc-17da-4acb-b2c0-c2dca775949e",
   "metadata": {},
   "source": [
    "\t•\tStock Prices: Daily closing prices of a stock.\n",
    "\t•\tWeather Data: Temperature recorded hourly.\n",
    "\t•\tSales Data: Monthly sales revenue of a company.\n",
    "\t•\tWebsite Traffic: Number of visitors per day."
   ]
  },
  {
   "cell_type": "markdown",
   "id": "98fbabf5-02d3-47b0-bb31-22b2de8024ce",
   "metadata": {},
   "source": [
    "<img src = \"https://www.simplilearn.com/ice9/free_resources_article_thumb/Time_Series_Analysis_Example.jpg\" />"
   ]
  },
  {
   "cell_type": "markdown",
   "id": "67bbe348-fec7-443d-be99-86203651fb49",
   "metadata": {},
   "source": [
    "# Characteristics of Time Series Data"
   ]
  },
  {
   "cell_type": "markdown",
   "id": "faf75eda-93f5-4bc1-aef1-66f7be0c4cc8",
   "metadata": {},
   "source": [
    "\t1.\tChronological Order → Data points are arranged in time order (past → present → future).\n",
    "\t•\t🗓️ Example: Your daily weight measurements recorded in a diary (Jan 1 → Jan 2 → Jan 3).\n",
    "\t\n",
    "    2.\tSequential Order → Observations must follow one after another without shuffling.\n",
    "\t•\t📊 Example: A heart rate monitor records beats per minute in the exact sequence they occur.\n",
    "\t\n",
    "    3.\tTemporal Components → Data can show trends, seasonality, and cycles over time.\n",
    "\t•\t🔼 Trend: Global temperatures rising over decades.\n",
    "\t•\t☀️ Seasonality: More sunscreen sales in summer than winter.\n",
    "\t•\t📉 Cycles: Stock market repeating bull and bear phases.\n",
    "\t\n",
    "    4.\tConstant Frequency → Data is collected at fixed time intervals (e.g., hourly, daily, monthly).\n",
    "\t•\t⏰ Example: Recording temperature every hour (9 AM, 10 AM, 11 AM…).\n",
    "\t\n",
    "    5.\tDynamic Nature → Values change over time and are not static.\n",
    "\t•\t📈 Example: Bitcoin prices fluctuating throughout the day."
   ]
  },
  {
   "cell_type": "markdown",
   "id": "a5eefb60-5b85-4f11-a12d-cb607ef8bf1b",
   "metadata": {},
   "source": [
    "# What is Time Series Analysis?\n",
    "\n",
    "* Time Series Analysis (TSA) is a statistical technique used to analyze data points collected over time. The goal is to identify patterns, trends, and relationships in time-dependent data to make predictions or understand underlying behaviors."
   ]
  },
  {
   "cell_type": "markdown",
   "id": "219fef2f-6b2a-49a9-9080-3052d5301076",
   "metadata": {},
   "source": [
    "## Components of Time Series Analysis"
   ]
  },
  {
   "cell_type": "markdown",
   "id": "b350df89-41a4-44c5-8436-8d7c578cfaf6",
   "metadata": {},
   "source": [
    "\t1.\tTrend → Long-term movement in data.\n",
    "\t•\t📈 Example: A company’s revenue steadily increasing over years.\n",
    "\t\n",
    "    2.\tSeasonality → Repeating patterns over fixed periods.\n",
    "\t•\t☀️ Example: More ice cream sales in summer than winter.\n",
    "\t\n",
    "    3.\tCyclic Patterns → Repeating fluctuations that do not follow a fixed period.\n",
    "\t•\t📉 Example: Stock market ups and downs over several years.\n",
    "\t\n",
    "    4.\tIrregular (Random) Components → Unpredictable fluctuations.\n",
    "\t•\t🎲 Example: Sudden spikes in website traffic due to viral content."
   ]
  },
  {
   "cell_type": "markdown",
   "id": "9bf2ef3a-5337-4b9a-83a6-38dfcf2f3d63",
   "metadata": {},
   "source": [
    "## A. UnderStanding the past \n",
    "## B. Forecasting Future "
   ]
  },
  {
   "cell_type": "markdown",
   "id": "29d8ba06-3868-442f-a465-31e12763ed2e",
   "metadata": {},
   "source": [
    "<img src =\"https://preview.redd.it/aunxeatnaiv61.png?width=864&format=png&auto=webp&s=3e51774278fb22ce1610dffce6ff65d5bac70d96\" />"
   ]
  },
  {
   "cell_type": "markdown",
   "id": "4f1e6a81-bc99-4c5a-8ad6-2defbf3af3f4",
   "metadata": {},
   "source": [
    "# main charts\n",
    "1. Line Chart \n",
    "2. Candle Stick Chart"
   ]
  },
  {
   "cell_type": "markdown",
   "id": "9b24806a-a5ae-42d6-b292-4a670d153514",
   "metadata": {},
   "source": [
    "# What is Time Series Decomposition ?\n",
    "\n",
    "* Time series decomposition is the process of breaking down a time series into its main components to better understand its behavior."
   ]
  },
  {
   "cell_type": "markdown",
   "id": "c2059345-6621-4b18-a811-7ac83e9f993d",
   "metadata": {},
   "source": [
    "### Main Components of Time Series Decomposition\n",
    "\n",
    "\t1.\tTrend (Tt) → The long-term movement in data.\n",
    "\t•\t📈 Example: A company’s sales growing over several years.\n",
    "\t\n",
    "    2.\tSeasonality (St) → Repeating patterns at regular intervals (e.g., daily, monthly, yearly).\n",
    "\t•\t☀️ Example: More hotel bookings in summer than winter.\n",
    "\t\n",
    "    3.\tCyclic Component (Ct) → Fluctuations that occur at irregular intervals (longer than seasonality).\n",
    "\t•\t📉 Example: Economic recessions and booms.\n",
    "\t\n",
    "    4.\tResidual/Irregular (Et) → Random variations that cannot be explained by trend, seasonality, or cycles.\n",
    "\t•\t🎲 Example: Sudden sales spikes due to viral marketing."
   ]
  },
  {
   "cell_type": "code",
   "execution_count": null,
   "id": "15f364ca-7986-410e-a825-ce0751237699",
   "metadata": {},
   "outputs": [],
   "source": []
  }
 ],
 "metadata": {
  "kernelspec": {
   "display_name": "Python 3 (ipykernel)",
   "language": "python",
   "name": "python3"
  },
  "language_info": {
   "codemirror_mode": {
    "name": "ipython",
    "version": 3
   },
   "file_extension": ".py",
   "mimetype": "text/x-python",
   "name": "python",
   "nbconvert_exporter": "python",
   "pygments_lexer": "ipython3",
   "version": "3.12.7"
  }
 },
 "nbformat": 4,
 "nbformat_minor": 5
}
